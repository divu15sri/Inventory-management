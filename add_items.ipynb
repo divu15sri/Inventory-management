{
  "nbformat": 4,
  "nbformat_minor": 0,
  "metadata": {
    "colab": {
      "name": "add items.ipynb",
      "provenance": [],
      "collapsed_sections": []
    },
    "kernelspec": {
      "name": "python3",
      "display_name": "Python 3"
    },
    "language_info": {
      "name": "python"
    }
  },
  "cells": [
    {
      "cell_type": "code",
      "metadata": {
        "id": "LB-NX6GHTyPC",
        "colab": {
          "base_uri": "https://localhost:8080/"
        },
        "outputId": "8690e549-50f1-4e1b-a2be-02abf584b4c2"
      },
      "source": [
        "import json\n",
        "fd=open(\"record1.json\",'r')\n",
        "r=fd.read()\n",
        "fd.close()\n",
        "record1 =json.loads(r)\n",
        "\n",
        "\n",
        "prod_id= str(input(\"Enter the product id:\"))\n",
        "if (prod_id not in record1.keys()):\n",
        "\n",
        "  name=str(input(\"Enter the name:\"))\n",
        "  pr= int(input(\"Enter the price : \"))\n",
        "  qn=int(input(\"Enter the product quantity: \"))\n",
        "  exp=int(input(\"Enter the expiry date: \"))\n",
        "  pac=int(input(\"Enter the packaging date :\"))\n",
        "  record1[prod_id]= {'name':name,'pr':pr,'qn':qn,'ex_date':exp,'pack_date':pac}\n",
        "else:\n",
        "  print(\"THIS ID ALREADY EXISTS\\n\")\n",
        "  print(\"TRY ANOTHER ID\") \n",
        "js=json.dumps(record1)\n",
        "fd= open(\"record1.json\",'w')\n",
        "fd.write(js)\n",
        "fd.close()\n",
        "\n",
        "fd= open(\"record1.json\",'r')\n",
        "r=fd.read()\n",
        "fd.close()\n",
        "record1=json.loads(r)"
      ],
      "execution_count": 27,
      "outputs": [
        {
          "name": "stdout",
          "output_type": "stream",
          "text": [
            "Enter the product id:1034\n",
            "Enter the name:coffe\n",
            "Enter the price : 45\n",
            "Enter the product quantity: 32\n",
            "Enter the expiry date: 2022\n",
            "Enter the packaging date :2021\n"
          ]
        }
      ]
    },
    {
      "cell_type": "code",
      "metadata": {
        "colab": {
          "base_uri": "https://localhost:8080/"
        },
        "id": "yo-Pwd6__Pgw",
        "outputId": "87892d89-6a06-4c34-fe5a-ec83303dc6be"
      },
      "source": [
        "record1"
      ],
      "execution_count": 28,
      "outputs": [
        {
          "output_type": "execute_result",
          "data": {
            "text/plain": [
              "{'1001': {'ex_date': 2022,\n",
              "  'name': 'chocolate',\n",
              "  'pack_date': 2021,\n",
              "  'pr': 10,\n",
              "  'qn': 100},\n",
              " '1002': {'ex_date': 2022,\n",
              "  'name': 'coke',\n",
              "  'pack_date': 2021,\n",
              "  'pr': 20,\n",
              "  'qn': 10},\n",
              " '1003': {'ex_date': 2022,\n",
              "  'name': 'pen',\n",
              "  'pack_date': 2021,\n",
              "  'pr': 10,\n",
              "  'qn': 200},\n",
              " '1004': {'ex_date': 2022,\n",
              "  'name': 'pencil',\n",
              "  'pack_date': 2021,\n",
              "  'pr': 10,\n",
              "  'qn': 100},\n",
              " '1005': {'ex_date': 2022,\n",
              "  'name': 'milk',\n",
              "  'pack_date': 2021,\n",
              "  'pr': 20,\n",
              "  'qn': 50},\n",
              " '1006': {'ex_date': 2022,\n",
              "  'name': 'wallet',\n",
              "  'pack_date': 2021,\n",
              "  'pr': 56,\n",
              "  'qn': 28},\n",
              " '1007': {'ex_date': 2022,\n",
              "  'name': 'box',\n",
              "  'pack_date': 2021,\n",
              "  'pr': 60,\n",
              "  'qn': 80},\n",
              " '1008': {'ex_date': 2022,\n",
              "  'name': 'comb',\n",
              "  'pack_date': 2021,\n",
              "  'pr': 90,\n",
              "  'qn': 150},\n",
              " '1009': {'ex_date': 2022,\n",
              "  'name': 'mic',\n",
              "  'pack_date': 2021,\n",
              "  'pr': 66,\n",
              "  'qn': 340},\n",
              " '1010': {'ex_date': 2022,\n",
              "  'name': 'powder',\n",
              "  'pack_date': 2021,\n",
              "  'pr': 45,\n",
              "  'qn': 600},\n",
              " '1011': {'ex_date': 2022,\n",
              "  'name': 'lipstick',\n",
              "  'pack_date': 2021,\n",
              "  'pr': 600,\n",
              "  'qn': 100},\n",
              " '1012': {'ex_date': 2022,\n",
              "  'name': 'buiscuits',\n",
              "  'pack_date': 2021,\n",
              "  'pr': 60,\n",
              "  'qn': 500},\n",
              " '1013': {'ex_date': 2022,\n",
              "  'name': 'bhoojiya',\n",
              "  'pack_date': 2021,\n",
              "  'pr': 200,\n",
              "  'qn': 200},\n",
              " '1014': {'ex_date': 2022,\n",
              "  'name': 'lip balm',\n",
              "  'pack_date': 2021,\n",
              "  'pr': 500,\n",
              "  'qn': 340},\n",
              " '1015': {'ex_date': 2022,\n",
              "  'name': 'kitkat',\n",
              "  'pack_date': 2021,\n",
              "  'pr': 50,\n",
              "  'qn': 900},\n",
              " '1016': {'ex_date': 2022,\n",
              "  'name': 'parle',\n",
              "  'pack_date': 2021,\n",
              "  'pr': 30,\n",
              "  'qn': 800},\n",
              " '1017': {'ex_date': 2022,\n",
              "  'name': 'perk',\n",
              "  'pack_date': 2021,\n",
              "  'pr': 45,\n",
              "  'qn': 10},\n",
              " '1018': {'ex_date': 2022,\n",
              "  'name': 'goodday',\n",
              "  'pack_date': 2021,\n",
              "  'pr': 32,\n",
              "  'qn': 180},\n",
              " '1019': {'ex_date': 2022,\n",
              "  'name': 'soap',\n",
              "  'pack_date': 2021,\n",
              "  'pr': 60,\n",
              "  'qn': 100},\n",
              " '1020': {'ex_date': 2022,\n",
              "  'name': 'oil',\n",
              "  'pack_date': 2021,\n",
              "  'pr': 230,\n",
              "  'qn': 40},\n",
              " '1021': {'ex_date': 2022,\n",
              "  'name': 'coconut',\n",
              "  'pack_date': 2021,\n",
              "  'pr': 220,\n",
              "  'qn': 450},\n",
              " '1022': {'ex_date': 2022,\n",
              "  'name': 'orange',\n",
              "  'pack_date': 2021,\n",
              "  'pr': 78,\n",
              "  'qn': 50},\n",
              " '1023': {'ex_date': 2022,\n",
              "  'name': 'banana',\n",
              "  'pack_date': 2021,\n",
              "  'pr': 89,\n",
              "  'qn': 48},\n",
              " '1024': {'ex_date': 2022,\n",
              "  'name': 'lakme',\n",
              "  'pack_date': 2021,\n",
              "  'pr': 200,\n",
              "  'qn': 100},\n",
              " '1025': {'ex_date': 2022,\n",
              "  'name': 'colormate',\n",
              "  'pack_date': 2021,\n",
              "  'pr': 450,\n",
              "  'qn': 20},\n",
              " '1026': {'ex_date': 2022,\n",
              "  'name': 'lichi',\n",
              "  'pack_date': 2021,\n",
              "  'pr': 40,\n",
              "  'qn': 400},\n",
              " '1027': {'ex_date': 2022,\n",
              "  'name': 'potato',\n",
              "  'pack_date': 2021,\n",
              "  'pr': 110,\n",
              "  'qn': 48},\n",
              " '1028': {'ex_date': 2022,\n",
              "  'name': 'dairy milk',\n",
              "  'pack_date': 2021,\n",
              "  'pr': 200,\n",
              "  'qn': 409},\n",
              " '1029': {'ex_date': 2022,\n",
              "  'name': 'shampoo',\n",
              "  'pack_date': 2021,\n",
              "  'pr': 544,\n",
              "  'qn': 78},\n",
              " '1030': {'ex_date': 2022,\n",
              "  'name': 'tea',\n",
              "  'pack_date': 2021,\n",
              "  'pr': 60,\n",
              "  'qn': 43},\n",
              " '1034': {'ex_date': 2022,\n",
              "  'name': 'coffe',\n",
              "  'pack_date': 2021,\n",
              "  'pr': 45,\n",
              "  'qn': 32}}"
            ]
          },
          "metadata": {},
          "execution_count": 28
        }
      ]
    },
    {
      "cell_type": "code",
      "metadata": {
        "colab": {
          "base_uri": "https://localhost:8080/"
        },
        "id": "Dm7CMdygwSOL",
        "outputId": "be2fd368-a609-4074-8ef9-5a0cf89a047d"
      },
      "source": [
        "record1"
      ],
      "execution_count": null,
      "outputs": [
        {
          "output_type": "execute_result",
          "data": {
            "text/plain": [
              "{'1001': {'name': 'chocolate', 'pr': 10, 'qn': 100},\n",
              " '1002': {'name': 'coke', 'pr': 20, 'qn': 10},\n",
              " '1003': {'name': 'pen', 'pr': 10, 'qn': 200},\n",
              " '1004': {'name': 'milk', 'pr': 45, 'qn': 190},\n",
              " '1007': {'name': 'net', 'pr': 67, 'qn': 78}}"
            ]
          },
          "metadata": {},
          "execution_count": 22
        }
      ]
    },
    {
      "cell_type": "code",
      "metadata": {
        "colab": {
          "base_uri": "https://localhost:8080/"
        },
        "id": "I2-ur5VX3fhU",
        "outputId": "d113cea4-e628-4c12-f8a1-e925ba0877fb"
      },
      "source": [
        "record1"
      ],
      "execution_count": null,
      "outputs": [
        {
          "output_type": "execute_result",
          "data": {
            "text/plain": [
              "{'1001': {'name': 'chocolate', 'pr': 10, 'qn': 100},\n",
              " '1002': {'name': 'coke', 'pr': 20, 'qn': 10},\n",
              " '1003': {'name': 'pen', 'pr': 10, 'qn': 200},\n",
              " '1004': {'name': 'milk', 'pr': 45, 'qn': 190},\n",
              " '1007': {'name': 'net', 'pr': 67, 'qn': 78}}"
            ]
          },
          "metadata": {},
          "execution_count": 21
        }
      ]
    },
    {
      "cell_type": "code",
      "metadata": {
        "id": "mFkFldiv4QtD",
        "colab": {
          "base_uri": "https://localhost:8080/"
        },
        "outputId": "137733a0-a6b0-4572-f720-318b3f29c84d"
      },
      "source": [
        "record1"
      ],
      "execution_count": null,
      "outputs": [
        {
          "output_type": "execute_result",
          "data": {
            "text/plain": [
              "{'1001': {'name': 'chocolate', 'pr': 10, 'qn': 100},\n",
              " '1002': {'name': 'coke', 'pr': 20, 'qn': 10},\n",
              " '1003': {'name': 'pen', 'pr': 10, 'qn': 200},\n",
              " '1004': {'name': 'milk', 'pr': 45, 'qn': 190},\n",
              " '1007': {'name': 'net', 'pr': 67, 'qn': 78}}"
            ]
          },
          "metadata": {},
          "execution_count": 24
        }
      ]
    }
  ]
}