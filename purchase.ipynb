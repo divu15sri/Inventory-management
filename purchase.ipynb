{
  "nbformat": 4,
  "nbformat_minor": 0,
  "metadata": {
    "colab": {
      "name": "purchase.ipynb",
      "provenance": [],
      "toc_visible": true
    },
    "kernelspec": {
      "name": "python3",
      "display_name": "Python 3"
    },
    "language_info": {
      "name": "python"
    }
  },
  "cells": [
    {
      "cell_type": "code",
      "metadata": {
        "id": "cka8_FkD_xwJ"
      },
      "source": [
        "import json\n",
        "\n",
        "fd= open(\"record1.json\",'r')\n",
        "\n",
        "r=fd.read()\n",
        "fd.close()\n",
        "record1=json.loads(r)"
      ],
      "execution_count": 1,
      "outputs": []
    },
    {
      "cell_type": "code",
      "metadata": {
        "colab": {
          "base_uri": "https://localhost:8080/",
          "height": 245
        },
        "id": "arWFPE8aAOVh",
        "outputId": "0e374cd3-4c95-4900-adad-7f2362b224dd"
      },
      "source": [
        "uprod=str(input(\"Enter the product id you want to buy: \"))\n",
        "if(uprod not in record1.keys()):\n",
        "  print('valid id')\n",
        "else:\n",
        "  print(\"Invalid\")  \n",
        "  exit()\n",
        "uquant=int(input(\"Enter the quantity you want to buy: \"))\n",
        "print(\"Product name is\",record1[uprod]['name'])\n",
        "print(\"Price of the product is\",record1[uprod]['pr'])\n",
        "\n",
        "print(\"Expiry date of the product is\",record1[uprod]['ex_date'])\n",
        "print(\"Packaging date of the product is\",record1[uprod]['pack_date'])\n",
        "print(\"***********************************************************\")\n",
        "print(\"Billing Amount is:\" ,record1[uprod]['pr']*uquant)\n",
        "print(\"***********************************************************\")\n",
        "print(\"THANK YOU FOR SHOPPING\\n\")\n",
        "record1[uprod]['qn']=record1[uprod]['qn']-uquant\n",
        "\n",
        "js=json.dumps(record1)\n",
        "fd=open(\"record1.json\",'w')\n",
        "fd.write(js)\n",
        "fd.close()\n"
      ],
      "execution_count": 1,
      "outputs": [
        {
          "name": "stdout",
          "output_type": "stream",
          "text": [
            "Enter the product id you want to buy: 1007\n"
          ]
        },
        {
          "output_type": "error",
          "ename": "NameError",
          "evalue": "ignored",
          "traceback": [
            "\u001b[0;31m---------------------------------------------------------------------------\u001b[0m",
            "\u001b[0;31mNameError\u001b[0m                                 Traceback (most recent call last)",
            "\u001b[0;32m<ipython-input-1-3231404cc304>\u001b[0m in \u001b[0;36m<module>\u001b[0;34m()\u001b[0m\n\u001b[1;32m      1\u001b[0m \u001b[0muprod\u001b[0m\u001b[0;34m=\u001b[0m\u001b[0mstr\u001b[0m\u001b[0;34m(\u001b[0m\u001b[0minput\u001b[0m\u001b[0;34m(\u001b[0m\u001b[0;34m\"Enter the product id you want to buy: \"\u001b[0m\u001b[0;34m)\u001b[0m\u001b[0;34m)\u001b[0m\u001b[0;34m\u001b[0m\u001b[0;34m\u001b[0m\u001b[0m\n\u001b[0;32m----> 2\u001b[0;31m \u001b[0;32mif\u001b[0m\u001b[0;34m(\u001b[0m\u001b[0muprod\u001b[0m \u001b[0;32mnot\u001b[0m \u001b[0;32min\u001b[0m \u001b[0mrecord1\u001b[0m\u001b[0;34m.\u001b[0m\u001b[0mkeys\u001b[0m\u001b[0;34m(\u001b[0m\u001b[0;34m)\u001b[0m\u001b[0;34m)\u001b[0m\u001b[0;34m:\u001b[0m\u001b[0;34m\u001b[0m\u001b[0;34m\u001b[0m\u001b[0m\n\u001b[0m\u001b[1;32m      3\u001b[0m   \u001b[0mprint\u001b[0m\u001b[0;34m(\u001b[0m\u001b[0;34m'valid id'\u001b[0m\u001b[0;34m)\u001b[0m\u001b[0;34m\u001b[0m\u001b[0;34m\u001b[0m\u001b[0m\n\u001b[1;32m      4\u001b[0m \u001b[0;32melse\u001b[0m\u001b[0;34m:\u001b[0m\u001b[0;34m\u001b[0m\u001b[0;34m\u001b[0m\u001b[0m\n\u001b[1;32m      5\u001b[0m   \u001b[0mprint\u001b[0m\u001b[0;34m(\u001b[0m\u001b[0;34m\"Invalid\"\u001b[0m\u001b[0;34m)\u001b[0m\u001b[0;34m\u001b[0m\u001b[0;34m\u001b[0m\u001b[0m\n",
            "\u001b[0;31mNameError\u001b[0m: name 'record1' is not defined"
          ]
        }
      ]
    },
    {
      "cell_type": "code",
      "metadata": {
        "id": "KocJhKroATb7"
      },
      "source": [
        "sales={1: {'prod' : uprod, 'qn' : uquant, 'amount' : record1[uprod]['pr']*uquant,},\n",
        "       2: {'prod' : uprod, 'qn' : uquant, 'amount' : record1[uprod]['pr']*uquant},\n",
        "       3: {'prod' : uprod, 'qn' : uquant, 'amount' : record1[uprod]['pr']*uquant}}\n",
        "\n",
        "sales = json.dumps(sales)\n",
        "sales"
      ],
      "execution_count": null,
      "outputs": []
    }
  ]
}